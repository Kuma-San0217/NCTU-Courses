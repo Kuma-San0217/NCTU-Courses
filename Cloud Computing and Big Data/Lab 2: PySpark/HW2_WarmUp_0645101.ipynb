{
 "cells": [
  {
   "cell_type": "code",
   "execution_count": 1,
   "metadata": {},
   "outputs": [],
   "source": [
    "#Import findspark library to find spark from any directory\n",
    "#Don't forget to change name of my computer(\"yura0217\") to name of your computer\n",
    "import findspark\n",
    "findspark.init('/home/yura0217/spark-2.3.0-bin-hadoop2.7')"
   ]
  },
  {
   "cell_type": "code",
   "execution_count": 2,
   "metadata": {},
   "outputs": [],
   "source": [
    "#Then import pyspark library to work with spark \n",
    "import pyspark\n",
    "#And from pyspark.sql module import SparkSession class\n",
    "#SparkSession is the main entry point for DataFrame and SQL functionality\n",
    "from pyspark.sql import SparkSession"
   ]
  },
  {
   "cell_type": "code",
   "execution_count": 3,
   "metadata": {},
   "outputs": [],
   "source": [
    "#Create variable \"spark\" which contains class \"Builder\"\n",
    "#\"Builder\" allows create DataFrame\n",
    "#Method \"appName\" is used to give name for a DataFrame\n",
    "#\"getOrCreate\" is used to get an existing SparkSession or create\n",
    "spark = SparkSession.builder.appName('WarmUp').getOrCreate()"
   ]
  },
  {
   "cell_type": "code",
   "execution_count": 4,
   "metadata": {},
   "outputs": [],
   "source": [
    "#Read json file by \"read\" method \n",
    "df = spark.read.json('people.json')"
   ]
  },
  {
   "cell_type": "code",
   "execution_count": 5,
   "metadata": {},
   "outputs": [
    {
     "name": "stdout",
     "output_type": "stream",
     "text": [
      "+-------+-----------------+\n",
      "|summary|              age|\n",
      "+-------+-----------------+\n",
      "|  count|               15|\n",
      "|   mean|35.13333333333333|\n",
      "| stddev|32.69527415974597|\n",
      "|    min|                2|\n",
      "|    max|              130|\n",
      "+-------+-----------------+\n",
      "\n"
     ]
    }
   ],
   "source": [
    "#\"describe\" method allows to get statistics for numeric and string columns\n",
    "#By the condition of homework task need to get statistics only of \"age\" column\n",
    "#If you want to read another columns of your file, you can add\n",
    "#name of the column to list in \"describe\" argument\n",
    "#Mean is the same as Average\n",
    "df.describe(['age']).show()"
   ]
  },
  {
   "cell_type": "code",
   "execution_count": null,
   "metadata": {},
   "outputs": [],
   "source": []
  }
 ],
 "metadata": {
  "kernelspec": {
   "display_name": "Python 3",
   "language": "python",
   "name": "python3"
  },
  "language_info": {
   "codemirror_mode": {
    "name": "ipython",
    "version": 3
   },
   "file_extension": ".py",
   "mimetype": "text/x-python",
   "name": "python",
   "nbconvert_exporter": "python",
   "pygments_lexer": "ipython3",
   "version": "3.5.2"
  }
 },
 "nbformat": 4,
 "nbformat_minor": 2
}
